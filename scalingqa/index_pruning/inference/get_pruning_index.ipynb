{
 "cells": [
  {
   "cell_type": "markdown",
   "metadata": {},
   "source": [
    "# Index pruning"
   ]
  },
  {
   "cell_type": "markdown",
   "metadata": {},
   "source": [
    "This file defines a set of all passage indices to keep in the pruned index. It uses __trained irrelevance classifier__ probabilities and __training data file__ which contains golden passages."
   ]
  },
  {
   "cell_type": "code",
   "execution_count": null,
   "metadata": {},
   "outputs": [],
   "source": [
    "import h5py\n",
    "import os\n",
    "import numpy as np\n",
    "from tqdm import tqdm\n",
    "\n",
    "# In this example, the pruning probabilities are kept in <rootdir>/.pruning directory\n",
    "os.chdir(\"../../..\")\n",
    "print(os.getcwd())\n",
    "\n",
    "#### Change these paths if needed ########\n",
    "total_passages=1_700_000 # total passages to kept\n",
    "\n",
    "# set path to passage probabilities\n",
    "file=\".pruning/psgs_w100_irrelevant_passage_probs_electra_nqopen.h5\"\n",
    "#file=\".pruning/psgs_w100_irrelevant_passage_probs_electra_trivia.h5\"\n",
    "\n",
    "# set training file path\n",
    "training_data_source = \".data/nqopen/nq-open_train_short_maxlen_5_ms_with_dpr_annotation.jsonl\"\n",
    "#training_data_source = \".data/triviaopen/triviaqa-open_train_with_dpr_annotation.jsonl\"\n",
    "\n",
    "# here the set of all relevant passages will be saved\n",
    "output_index_file = \".pruning/relevant_\" +  \\\n",
    "                    os.path.basename(file)[:-3]+\"_with_\"+ \\\n",
    "                    os.path.basename(training_data_source)+ \\\n",
    "                    f\"_p{total_passages}\"+\".pkl\""
   ]
  },
  {
   "cell_type": "code",
   "execution_count": 2,
   "metadata": {},
   "outputs": [],
   "source": [
    "# Load passage probs/scores\n",
    "data = h5py.File(file, 'r')['data'][()]\n",
    "scores, probs = data[:,0], data[:,1]"
   ]
  },
  {
   "cell_type": "markdown",
   "metadata": {},
   "source": [
    "### Lets choose the threshold, and compute, how many documents will be present with this classifier threshold"
   ]
  },
  {
   "cell_type": "code",
   "execution_count": 3,
   "metadata": {},
   "outputs": [
    {
     "name": "stdout",
     "output_type": "stream",
     "text": [
      "Threshold is: -2.7950857\n"
     ]
    }
   ],
   "source": [
    "sorted_scores = np.sort(scores)\n",
    "t = sorted_scores[total_passages]\n",
    "print(\"Threshold is: \" + str(t))"
   ]
  },
  {
   "cell_type": "code",
   "execution_count": 4,
   "metadata": {},
   "outputs": [
    {
     "name": "stdout",
     "output_type": "stream",
     "text": [
      "Keeping 1700000 indices\n"
     ]
    }
   ],
   "source": [
    "print(f\"Keeping {(scores<t).sum()} indices\")\n",
    "indices_to_keep =(scores<t).nonzero()"
   ]
  },
  {
   "cell_type": "code",
   "execution_count": 5,
   "metadata": {},
   "outputs": [
    {
     "name": "stdout",
     "output_type": "stream",
     "text": [
      "[0, 1, 2, 3, 4, 5, 4194305, 7, 8, 9, 10, 11, 12, 13, 14, 15, 4194311, 17, 18, 4194318]\n"
     ]
    }
   ],
   "source": [
    "relevant_indices_to_keep = set(indices_to_keep[0].tolist())\n",
    "print(list(relevant_indices_to_keep)[:20])"
   ]
  },
  {
   "cell_type": "markdown",
   "metadata": {},
   "source": [
    "### Keep all training gold passages inside index"
   ]
  },
  {
   "cell_type": "code",
   "execution_count": 6,
   "metadata": {},
   "outputs": [
    {
     "data": {
      "text/plain": [
       "[7077893,\n",
       " 13631497,\n",
       " 1572875,\n",
       " 13238285,\n",
       " 1310733,\n",
       " 14024719,\n",
       " 1703951,\n",
       " 13631502,\n",
       " 4849677,\n",
       " 131092,\n",
       " 6291477,\n",
       " 19660825,\n",
       " 6815773,\n",
       " 14942239,\n",
       " 262180,\n",
       " 262187,\n",
       " 9699372,\n",
       " 1572909,\n",
       " 17432619,\n",
       " 20185135]"
      ]
     },
     "execution_count": 6,
     "metadata": {},
     "output_type": "execute_result"
    }
   ],
   "source": [
    "from scalingqa.index_pruning.dataset.NQ.build_dataset import get_golden_passages\n",
    "\n",
    "positive_documents_gt_indices = get_golden_passages(training_data_source)\n",
    "list(positive_documents_gt_indices)[:20]"
   ]
  },
  {
   "cell_type": "code",
   "execution_count": 7,
   "metadata": {},
   "outputs": [],
   "source": [
    "total_indices_to_keep = relevant_indices_to_keep.union(positive_documents_gt_indices)"
   ]
  },
  {
   "cell_type": "code",
   "execution_count": 8,
   "metadata": {},
   "outputs": [
    {
     "name": "stdout",
     "output_type": "stream",
     "text": [
      "Total size of kept index: 1702133\n",
      "Size chosen via binary classifier: 1700000\n",
      "Total size of training data index: 40670\n",
      "Size of training data index missing from index kept via binary classifier: 2133\n"
     ]
    }
   ],
   "source": [
    "print(f\"Total size of kept index: {len(total_indices_to_keep)}\")\n",
    "print(f\"Size chosen via binary classifier: {len(relevant_indices_to_keep)}\")\n",
    "print(f\"Total size of training data index: {len(set(positive_documents_gt_indices))}\")\n",
    "print(f\"Size of training data index missing from index kept via binary classifier: {len(total_indices_to_keep)-len(relevant_indices_to_keep)}\")"
   ]
  },
  {
   "cell_type": "code",
   "execution_count": null,
   "metadata": {},
   "outputs": [],
   "source": [
    "import pickle\n",
    "\n",
    "print(f\"Saving total indices after pruning as set into {output_index_file}\")\n",
    "with open(output_index_file, \"wb\") as f:\n",
    "    pickle.dump(total_indices_to_keep, f)"
   ]
  }
 ],
 "metadata": {
  "kernelspec": {
   "display_name": "Python 3",
   "language": "python",
   "name": "python3"
  },
  "language_info": {
   "codemirror_mode": {
    "name": "ipython",
    "version": 3
   },
   "file_extension": ".py",
   "mimetype": "text/x-python",
   "name": "python",
   "nbconvert_exporter": "python",
   "pygments_lexer": "ipython3",
   "version": "3.6.12"
  }
 },
 "nbformat": 4,
 "nbformat_minor": 4
}